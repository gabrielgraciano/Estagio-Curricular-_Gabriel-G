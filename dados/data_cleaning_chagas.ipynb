{
  "nbformat": 4,
  "nbformat_minor": 0,
  "metadata": {
    "colab": {
      "provenance": [],
      "include_colab_link": true
    },
    "kernelspec": {
      "name": "python3",
      "display_name": "Python 3"
    },
    "language_info": {
      "name": "python"
    }
  },
  "cells": [
    {
      "cell_type": "markdown",
      "metadata": {
        "id": "view-in-github",
        "colab_type": "text"
      },
      "source": [
        "<a href=\"https://colab.research.google.com/github/gabrielgraciano/Estagio-Curricular-_Gabriel-G/blob/main/data_cleaning_chagas.ipynb\" target=\"_parent\"><img src=\"https://colab.research.google.com/assets/colab-badge.svg\" alt=\"Open In Colab\"/></a>"
      ]
    },
    {
      "cell_type": "code",
      "source": [
        "! pip install pysus"
      ],
      "metadata": {
        "id": "6TkkS9Ngl05R",
        "colab": {
          "base_uri": "https://localhost:8080/"
        },
        "outputId": "b4ed8bdd-1c4f-4ee7-b4fe-6af77cc01395"
      },
      "execution_count": null,
      "outputs": [
        {
          "output_type": "stream",
          "name": "stdout",
          "text": [
            "Requirement already satisfied: pysus in /usr/local/lib/python3.10/dist-packages (0.14.0)\n",
            "Requirement already satisfied: Unidecode<2.0.0,>=1.3.6 in /usr/local/lib/python3.10/dist-packages (from pysus) (1.3.8)\n",
            "Requirement already satisfied: aioftp<0.22.0,>=0.21.4 in /usr/local/lib/python3.10/dist-packages (from pysus) (0.21.4)\n",
            "Requirement already satisfied: bigtree<0.13.0,>=0.12.2 in /usr/local/lib/python3.10/dist-packages (from pysus) (0.12.5)\n",
            "Requirement already satisfied: cffi==1.15.1 in /usr/local/lib/python3.10/dist-packages (from pysus) (1.15.1)\n",
            "Requirement already satisfied: dateparser<2.0.0,>=1.1.8 in /usr/local/lib/python3.10/dist-packages (from pysus) (1.2.0)\n",
            "Requirement already satisfied: dbfread==2.0.7 in /usr/local/lib/python3.10/dist-packages (from pysus) (2.0.7)\n",
            "Requirement already satisfied: elasticsearch[preprocessing]==7.16.2 in /usr/local/lib/python3.10/dist-packages (from pysus) (7.16.2)\n",
            "Requirement already satisfied: fastparquet>=2023.10.1 in /usr/local/lib/python3.10/dist-packages (from pysus) (2024.2.0)\n",
            "Requirement already satisfied: humanize<5.0.0,>=4.8.0 in /usr/local/lib/python3.10/dist-packages (from pysus) (4.9.0)\n",
            "Requirement already satisfied: loguru<0.7.0,>=0.6.0 in /usr/local/lib/python3.10/dist-packages (from pysus) (0.6.0)\n",
            "Requirement already satisfied: numpy==1.26.2 in /usr/local/lib/python3.10/dist-packages (from pysus) (1.26.2)\n",
            "Requirement already satisfied: pandas>=2.1.0 in /usr/local/lib/python3.10/dist-packages (from pysus) (2.2.2)\n",
            "Requirement already satisfied: pyarrow>=11.0.0 in /usr/local/lib/python3.10/dist-packages (from pysus) (14.0.2)\n",
            "Requirement already satisfied: pycparser==2.21 in /usr/local/lib/python3.10/dist-packages (from pysus) (2.21)\n",
            "Requirement already satisfied: pyreaddbc>=1.1.0 in /usr/local/lib/python3.10/dist-packages (from pysus) (1.2.0)\n",
            "Requirement already satisfied: python-dateutil==2.8.2 in /usr/local/lib/python3.10/dist-packages (from pysus) (2.8.2)\n",
            "Requirement already satisfied: tqdm==4.64.0 in /usr/local/lib/python3.10/dist-packages (from pysus) (4.64.0)\n",
            "Requirement already satisfied: typing-extensions<5.0.0,>=4.9.0 in /usr/local/lib/python3.10/dist-packages (from pysus) (4.11.0)\n",
            "Requirement already satisfied: urwid<3.0.0,>=2.1.2 in /usr/local/lib/python3.10/dist-packages (from pysus) (2.6.10)\n",
            "Requirement already satisfied: wget<4.0,>=3.2 in /usr/local/lib/python3.10/dist-packages (from pysus) (3.2)\n",
            "\u001b[33mWARNING: elasticsearch 7.16.2 does not provide the extra 'preprocessing'\u001b[0m\u001b[33m\n",
            "\u001b[0mRequirement already satisfied: urllib3<2,>=1.21.1 in /usr/local/lib/python3.10/dist-packages (from elasticsearch[preprocessing]==7.16.2->pysus) (1.26.18)\n",
            "Requirement already satisfied: certifi in /usr/local/lib/python3.10/dist-packages (from elasticsearch[preprocessing]==7.16.2->pysus) (2024.2.2)\n",
            "Requirement already satisfied: six>=1.5 in /usr/local/lib/python3.10/dist-packages (from python-dateutil==2.8.2->pysus) (1.16.0)\n",
            "Requirement already satisfied: pytz in /usr/local/lib/python3.10/dist-packages (from dateparser<2.0.0,>=1.1.8->pysus) (2023.4)\n",
            "Requirement already satisfied: regex!=2019.02.19,!=2021.8.27 in /usr/local/lib/python3.10/dist-packages (from dateparser<2.0.0,>=1.1.8->pysus) (2023.12.25)\n",
            "Requirement already satisfied: tzlocal in /usr/local/lib/python3.10/dist-packages (from dateparser<2.0.0,>=1.1.8->pysus) (5.2)\n",
            "Requirement already satisfied: cramjam>=2.3 in /usr/local/lib/python3.10/dist-packages (from fastparquet>=2023.10.1->pysus) (2.8.3)\n",
            "Requirement already satisfied: fsspec in /usr/local/lib/python3.10/dist-packages (from fastparquet>=2023.10.1->pysus) (2023.6.0)\n",
            "Requirement already satisfied: packaging in /usr/local/lib/python3.10/dist-packages (from fastparquet>=2023.10.1->pysus) (24.0)\n",
            "Requirement already satisfied: tzdata>=2022.7 in /usr/local/lib/python3.10/dist-packages (from pandas>=2.1.0->pysus) (2024.1)\n",
            "Requirement already satisfied: pyyaml>=6 in /usr/local/lib/python3.10/dist-packages (from pyreaddbc>=1.1.0->pysus) (6.0.1)\n",
            "Requirement already satisfied: wcwidth in /usr/local/lib/python3.10/dist-packages (from urwid<3.0.0,>=2.1.2->pysus) (0.2.13)\n"
          ]
        }
      ]
    },
    {
      "cell_type": "code",
      "execution_count": null,
      "metadata": {
        "id": "6BEClgT_lkPH"
      },
      "outputs": [],
      "source": [
        "from pysus.online_data import SINAN\n"
      ]
    },
    {
      "cell_type": "code",
      "source": [
        "from pysus.ftp.databases.sinan import SINAN"
      ],
      "metadata": {
        "id": "Xi1w95dTmZpK"
      },
      "execution_count": null,
      "outputs": []
    },
    {
      "cell_type": "code",
      "source": [
        "sinan = SINAN().load()\n",
        "import pandas as pd\n"
      ],
      "metadata": {
        "id": "tt6aDOl_mnqT"
      },
      "execution_count": null,
      "outputs": []
    },
    {
      "cell_type": "code",
      "source": [
        "sinan.diseases"
      ],
      "metadata": {
        "id": "1ZVHRbXNmsg-",
        "colab": {
          "base_uri": "https://localhost:8080/"
        },
        "outputId": "dafc8ca3-c095-4137-d323-ed04a081bf8e"
      },
      "execution_count": null,
      "outputs": [
        {
          "output_type": "execute_result",
          "data": {
            "text/plain": [
              "{'ACBI': 'Acidente de trabalho com material biológico',\n",
              " 'ACGR': 'Acidente de trabalho',\n",
              " 'ANIM': 'Acidente por Animais Peçonhentos',\n",
              " 'ANTR': 'Atendimento Antirrabico',\n",
              " 'BOTU': 'Botulismo',\n",
              " 'CANC': 'Cancêr relacionado ao trabalho',\n",
              " 'CHAG': 'Doença de Chagas Aguda',\n",
              " 'CHIK': 'Febre de Chikungunya',\n",
              " 'COLE': 'Cólera',\n",
              " 'COQU': 'Coqueluche',\n",
              " 'DENG': 'Dengue',\n",
              " 'DERM': 'Dermatoses ocupacionais',\n",
              " 'DIFT': 'Difteria',\n",
              " 'ESQU': 'Esquistossomose',\n",
              " 'EXAN': 'Doença exantemáticas',\n",
              " 'FMAC': 'Febre Maculosa',\n",
              " 'FTIF': 'Febre Tifóide',\n",
              " 'HANS': 'Hanseníase',\n",
              " 'HANT': 'Hantavirose',\n",
              " 'HEPA': 'Hepatites Virais',\n",
              " 'IEXO': 'Intoxicação Exógena',\n",
              " 'INFL': 'Influenza Pandêmica',\n",
              " 'LEIV': 'Leishmaniose Visceral',\n",
              " 'LEPT': 'Leptospirose',\n",
              " 'LERD': 'LER/Dort',\n",
              " 'LTAN': 'Leishmaniose Tegumentar Americana',\n",
              " 'MALA': 'Malária',\n",
              " 'MENI': 'Meningite',\n",
              " 'MENT': 'Transtornos mentais relacionados ao trabalho',\n",
              " 'NTRA': 'Notificação de Tracoma',\n",
              " 'PAIR': 'Perda auditiva por ruído relacionado ao trabalho',\n",
              " 'PEST': 'Peste',\n",
              " 'PFAN': 'Paralisia Flácida Aguda',\n",
              " 'PNEU': 'Pneumoconioses realacionadas ao trabalho',\n",
              " 'RAIV': 'Raiva',\n",
              " 'SDTA': 'Surto Doenças Transmitidas por Alimentos',\n",
              " 'SIFA': 'Sífilis Adquirida',\n",
              " 'SIFC': 'Sífilis Congênita',\n",
              " 'SIFG': 'Sífilis em Gestante',\n",
              " 'SRC': 'Síndrome da Rubéola Congênia',\n",
              " 'TETA': 'Tétano Acidental',\n",
              " 'TETN': 'Tétano Neonatal',\n",
              " 'TOXC': 'Toxoplasmose Congênita',\n",
              " 'TOXG': 'Toxoplasmose Gestacional',\n",
              " 'TRAC': 'Inquérito de Tracoma',\n",
              " 'TUBE': 'Tuberculose',\n",
              " 'VARC': 'Varicela',\n",
              " 'VIOL': 'Violência doméstica, sexual e/ou outras violências',\n",
              " 'ZIKA': 'Zika Vírus'}"
            ]
          },
          "metadata": {},
          "execution_count": 5
        }
      ]
    },
    {
      "cell_type": "markdown",
      "source": [
        "Vamos ver quais dados estão disponíveis para as doenças"
      ],
      "metadata": {
        "id": "eELWqMNNm4q5"
      }
    },
    {
      "cell_type": "code",
      "source": [
        "sinan.get_files('CHAG')"
      ],
      "metadata": {
        "colab": {
          "base_uri": "https://localhost:8080/"
        },
        "id": "OYMkeWyKm-HJ",
        "outputId": "4ceb528b-db8f-4a1d-8921-ded6ad60fbce"
      },
      "execution_count": null,
      "outputs": [
        {
          "output_type": "execute_result",
          "data": {
            "text/plain": [
              "[CHAGBR00.dbc,\n",
              " CHAGBR01.dbc,\n",
              " CHAGBR02.dbc,\n",
              " CHAGBR03.dbc,\n",
              " CHAGBR04.dbc,\n",
              " CHAGBR05.dbc,\n",
              " CHAGBR06.dbc,\n",
              " CHAGBR07.dbc,\n",
              " CHAGBR08.dbc,\n",
              " CHAGBR09.dbc,\n",
              " CHAGBR10.dbc,\n",
              " CHAGBR11.dbc,\n",
              " CHAGBR12.dbc,\n",
              " CHAGBR13.dbc,\n",
              " CHAGBR14.dbc,\n",
              " CHAGBR15.dbc,\n",
              " CHAGBR16.dbc,\n",
              " CHAGBR17.dbc,\n",
              " CHAGBR18.dbc,\n",
              " CHAGBR19.dbc,\n",
              " CHAGBR20.dbc,\n",
              " CHAGBR21.dbc,\n",
              " CHAGBR22.dbc]"
            ]
          },
          "metadata": {},
          "execution_count": 6
        }
      ]
    },
    {
      "cell_type": "code",
      "source": [
        "df_chag_10 = sinan.download(sinan.get_files('CHAG', 2010)).to_dataframe()"
      ],
      "metadata": {
        "colab": {
          "base_uri": "https://localhost:8080/"
        },
        "id": "dLpnMi_MsXZ-",
        "outputId": "f52e2e6b-ffd8-4587-fa2c-77d49c215bc2"
      },
      "execution_count": null,
      "outputs": [
        {
          "output_type": "stream",
          "name": "stderr",
          "text": [
            "CHAGBR10.parquet: 100%|██████████| 305/305 [00:00<00:00, 1.37kB/s]\n"
          ]
        }
      ]
    },
    {
      "cell_type": "code",
      "source": [
        "df_chag_11 = sinan.download(sinan.get_files('CHAG', 2011)).to_dataframe()"
      ],
      "metadata": {
        "colab": {
          "base_uri": "https://localhost:8080/"
        },
        "id": "zHlaigFQsgvo",
        "outputId": "a2d7488f-2c7d-47da-e7d7-d9829a38583b"
      },
      "execution_count": null,
      "outputs": [
        {
          "output_type": "stream",
          "name": "stderr",
          "text": [
            "CHAGBR11.parquet: 100%|█████████▉| 437/437 [00:00<00:00, 6.21kB/s]\n"
          ]
        }
      ]
    },
    {
      "cell_type": "code",
      "source": [
        "df_chag_12 = sinan.download(sinan.get_files('CHAG', 2012)).to_dataframe()"
      ],
      "metadata": {
        "colab": {
          "base_uri": "https://localhost:8080/"
        },
        "id": "8U8MBC8ysg78",
        "outputId": "6a491696-c4f1-47ff-a2e6-d552174f4df8"
      },
      "execution_count": null,
      "outputs": [
        {
          "output_type": "stream",
          "name": "stderr",
          "text": [
            "100%|██████████| 264k/264k [00:00<00:00, 53.7MB/s]\n"
          ]
        }
      ]
    },
    {
      "cell_type": "code",
      "source": [
        "df_chag_13 = sinan.download(sinan.get_files('CHAG', 2013)).to_dataframe()"
      ],
      "metadata": {
        "colab": {
          "base_uri": "https://localhost:8080/"
        },
        "id": "dZn1Bx18shGp",
        "outputId": "d72bac51-c2f0-44a1-8038-863228bab428"
      },
      "execution_count": null,
      "outputs": [
        {
          "output_type": "stream",
          "name": "stderr",
          "text": [
            "CHAGBR13.parquet: 100%|██████████| 8.10k/8.10k [00:01<00:00, 7.97kB/s]\n"
          ]
        }
      ]
    },
    {
      "cell_type": "code",
      "source": [
        "df_chag_14 = sinan.download(sinan.get_files('CHAG', 2014)).to_dataframe()"
      ],
      "metadata": {
        "colab": {
          "base_uri": "https://localhost:8080/"
        },
        "id": "fRdVkzhtshVC",
        "outputId": "aec3be8e-6334-42b4-8781-3ca7e3383ce1"
      },
      "execution_count": null,
      "outputs": [
        {
          "output_type": "stream",
          "name": "stderr",
          "text": [
            "CHAGBR14.parquet: 100%|██████████| 8.48k/8.48k [00:00<00:00, 10.6kB/s]\n"
          ]
        }
      ]
    },
    {
      "cell_type": "code",
      "source": [
        "df_chag_15 = sinan.download(sinan.get_files('CHAG', 2015)).to_dataframe()"
      ],
      "metadata": {
        "colab": {
          "base_uri": "https://localhost:8080/"
        },
        "id": "UZpSrqZFshfC",
        "outputId": "e3109701-5505-45c1-de71-8d2a54a6ee0a"
      },
      "execution_count": null,
      "outputs": [
        {
          "output_type": "stream",
          "name": "stderr",
          "text": [
            "CHAGBR15.parquet: 100%|██████████| 9.35k/9.35k [00:00<00:00, 12.6kB/s]\n"
          ]
        }
      ]
    },
    {
      "cell_type": "code",
      "source": [
        "df_chag_16 = sinan.download(sinan.get_files('CHAG', 2016)).to_dataframe()"
      ],
      "metadata": {
        "colab": {
          "base_uri": "https://localhost:8080/"
        },
        "id": "3A4tmMH1shpE",
        "outputId": "213ad50f-0cbf-4caa-c19a-b074abac3a9a"
      },
      "execution_count": null,
      "outputs": [
        {
          "output_type": "stream",
          "name": "stderr",
          "text": [
            "CHAGBR16.parquet: 100%|█████████▉| 9.28k/9.28k [00:00<00:00, 12.8kB/s]\n"
          ]
        }
      ]
    },
    {
      "cell_type": "code",
      "source": [
        "df_chag_17 = sinan.download(sinan.get_files('CHAG', 2017)).to_dataframe()"
      ],
      "metadata": {
        "colab": {
          "base_uri": "https://localhost:8080/"
        },
        "id": "eqgTfHzxsh0p",
        "outputId": "2cdc3efd-b5c8-4707-9256-d8ebf50bae05"
      },
      "execution_count": null,
      "outputs": [
        {
          "output_type": "stream",
          "name": "stderr",
          "text": [
            "CHAGBR17.parquet: 100%|█████████▉| 8.29k/8.29k [00:00<00:00, 13.4kB/s]\n"
          ]
        }
      ]
    },
    {
      "cell_type": "code",
      "source": [
        "df_chag_18 = sinan.download(sinan.get_files('CHAG', 2018)).to_dataframe()"
      ],
      "metadata": {
        "colab": {
          "base_uri": "https://localhost:8080/"
        },
        "id": "doG7DGuish-6",
        "outputId": "4eaff7ae-9707-4688-9e5f-04a6527b540c"
      },
      "execution_count": null,
      "outputs": [
        {
          "output_type": "stream",
          "name": "stderr",
          "text": [
            "CHAGBR18.parquet: 100%|██████████| 10.4k/10.4k [00:01<00:00, 8.32kB/s]\n"
          ]
        }
      ]
    },
    {
      "cell_type": "code",
      "source": [
        "df_chag_20 = sinan.download(sinan.get_files('CHAG', 2020)).to_dataframe()"
      ],
      "metadata": {
        "colab": {
          "base_uri": "https://localhost:8080/"
        },
        "id": "62iqH5OFsilK",
        "outputId": "926335d3-98ab-4d9f-c108-7428b3092465"
      },
      "execution_count": null,
      "outputs": [
        {
          "output_type": "stream",
          "name": "stderr",
          "text": [
            "CHAGBR20.parquet: 100%|█████████▉| 5.77k/5.77k [00:00<00:00, 13.1kB/s]\n"
          ]
        }
      ]
    },
    {
      "cell_type": "code",
      "source": [
        "df_chag_21 = sinan.download(sinan.get_files('CHAG', 2021)).to_dataframe()"
      ],
      "metadata": {
        "colab": {
          "base_uri": "https://localhost:8080/"
        },
        "id": "CG13J-k9nVn3",
        "outputId": "7459d06c-8054-4e3a-d912-c16ad004d173"
      },
      "execution_count": null,
      "outputs": [
        {
          "output_type": "stream",
          "name": "stderr",
          "text": [
            "CHAGBR21.parquet: 100%|██████████| 7.89k/7.89k [00:00<00:00, 10.5kB/s]\n"
          ]
        }
      ]
    },
    {
      "cell_type": "code",
      "source": [
        "df_chag_22 = sinan.download(sinan.get_files('CHAG', 2022)).to_dataframe()"
      ],
      "metadata": {
        "colab": {
          "base_uri": "https://localhost:8080/"
        },
        "id": "CMlTocrnszX3",
        "outputId": "e101b103-fc8a-4f11-ffbb-8b0ce793557b"
      },
      "execution_count": null,
      "outputs": [
        {
          "output_type": "stream",
          "name": "stderr",
          "text": [
            "CHAGBR22.parquet:   0%|          | 0.00/11.5k [00:00<?, ?B/s]/usr/local/lib/python3.10/dist-packages/tqdm/std.py:533: TqdmWarning: clamping frac to range [0, 1]\n",
            "  full_bar = Bar(frac,\n",
            "CHAGBR22.parquet: 100%|██████████| 11.5k/11.5k [00:00<00:00, 12.9kB/s]\n"
          ]
        }
      ]
    },
    {
      "cell_type": "code",
      "source": [
        "df_chag_19 = sinan.download(sinan.get_files('CHAG', 2019)).to_dataframe()"
      ],
      "metadata": {
        "id": "hPYESIYhnZ28",
        "colab": {
          "base_uri": "https://localhost:8080/"
        },
        "outputId": "0fe0e13f-9167-480e-e4a5-56e59d04e338"
      },
      "execution_count": null,
      "outputs": [
        {
          "output_type": "stream",
          "name": "stderr",
          "text": [
            "CHAGBR19.parquet: 100%|█████████▉| 9.92k/9.92k [00:00<00:00, 11.6kB/s]\n"
          ]
        }
      ]
    },
    {
      "cell_type": "markdown",
      "source": [
        "Vamos decodificar a idade agora"
      ],
      "metadata": {
        "id": "qOAQpiGPoaNL"
      }
    },
    {
      "cell_type": "code",
      "source": [
        "from pysus.preprocessing.decoders import decodifica_idade_SINAN\n"
      ],
      "metadata": {
        "id": "cc7jXZM5ocKR"
      },
      "execution_count": null,
      "outputs": []
    },
    {
      "cell_type": "code",
      "source": [
        "df_chag_19['idade_anos'] = decodifica_idade_SINAN(df_chag_19.NU_IDADE_N, 'Y')"
      ],
      "metadata": {
        "id": "nsm1Pnf8opBE"
      },
      "execution_count": null,
      "outputs": []
    },
    {
      "cell_type": "code",
      "source": [
        "df_chag_10['idade_anos'] = decodifica_idade_SINAN(df_chag_10.NU_IDADE_N, 'Y')\n",
        "df_chag_10 = df_chag_10[['NU_ANO', 'SG_UF_NOT', 'idade_anos', 'CS_SEXO']]"
      ],
      "metadata": {
        "id": "7H-RC25itWPD",
        "colab": {
          "base_uri": "https://localhost:8080/",
          "height": 280
        },
        "outputId": "d7e54e8c-ce59-47bf-c0af-6c3635e6fbbb"
      },
      "execution_count": null,
      "outputs": [
        {
          "output_type": "error",
          "ename": "AttributeError",
          "evalue": "'DataFrame' object has no attribute 'NU_IDADE_N'",
          "traceback": [
            "\u001b[0;31m---------------------------------------------------------------------------\u001b[0m",
            "\u001b[0;31mAttributeError\u001b[0m                            Traceback (most recent call last)",
            "\u001b[0;32m<ipython-input-29-3f2cfa63b1ca>\u001b[0m in \u001b[0;36m<cell line: 1>\u001b[0;34m()\u001b[0m\n\u001b[0;32m----> 1\u001b[0;31m \u001b[0mdf_chag_10\u001b[0m\u001b[0;34m[\u001b[0m\u001b[0;34m'idade_anos'\u001b[0m\u001b[0;34m]\u001b[0m \u001b[0;34m=\u001b[0m \u001b[0mdecodifica_idade_SINAN\u001b[0m\u001b[0;34m(\u001b[0m\u001b[0mdf_chag_10\u001b[0m\u001b[0;34m.\u001b[0m\u001b[0mNU_IDADE_N\u001b[0m\u001b[0;34m,\u001b[0m \u001b[0;34m'Y'\u001b[0m\u001b[0;34m)\u001b[0m\u001b[0;34m\u001b[0m\u001b[0;34m\u001b[0m\u001b[0m\n\u001b[0m\u001b[1;32m      2\u001b[0m \u001b[0mdf_chag_10\u001b[0m \u001b[0;34m=\u001b[0m \u001b[0mdf_chag_10\u001b[0m\u001b[0;34m[\u001b[0m\u001b[0;34m[\u001b[0m\u001b[0;34m'NU_ANO'\u001b[0m\u001b[0;34m,\u001b[0m \u001b[0;34m'SG_UF_NOT'\u001b[0m\u001b[0;34m,\u001b[0m \u001b[0;34m'idade_anos'\u001b[0m\u001b[0;34m,\u001b[0m \u001b[0;34m'CS_SEXO'\u001b[0m\u001b[0;34m]\u001b[0m\u001b[0;34m]\u001b[0m\u001b[0;34m\u001b[0m\u001b[0;34m\u001b[0m\u001b[0m\n",
            "\u001b[0;32m/usr/local/lib/python3.10/dist-packages/pandas/core/generic.py\u001b[0m in \u001b[0;36m__getattr__\u001b[0;34m(self, name)\u001b[0m\n\u001b[1;32m   6297\u001b[0m         ):\n\u001b[1;32m   6298\u001b[0m             \u001b[0;32mreturn\u001b[0m \u001b[0mself\u001b[0m\u001b[0;34m[\u001b[0m\u001b[0mname\u001b[0m\u001b[0;34m]\u001b[0m\u001b[0;34m\u001b[0m\u001b[0;34m\u001b[0m\u001b[0m\n\u001b[0;32m-> 6299\u001b[0;31m         \u001b[0;32mreturn\u001b[0m \u001b[0mobject\u001b[0m\u001b[0;34m.\u001b[0m\u001b[0m__getattribute__\u001b[0m\u001b[0;34m(\u001b[0m\u001b[0mself\u001b[0m\u001b[0;34m,\u001b[0m \u001b[0mname\u001b[0m\u001b[0;34m)\u001b[0m\u001b[0;34m\u001b[0m\u001b[0;34m\u001b[0m\u001b[0m\n\u001b[0m\u001b[1;32m   6300\u001b[0m \u001b[0;34m\u001b[0m\u001b[0m\n\u001b[1;32m   6301\u001b[0m     \u001b[0;34m@\u001b[0m\u001b[0mfinal\u001b[0m\u001b[0;34m\u001b[0m\u001b[0;34m\u001b[0m\u001b[0m\n",
            "\u001b[0;31mAttributeError\u001b[0m: 'DataFrame' object has no attribute 'NU_IDADE_N'"
          ]
        }
      ]
    },
    {
      "cell_type": "code",
      "source": [
        "df_chag_10"
      ],
      "metadata": {
        "colab": {
          "base_uri": "https://localhost:8080/",
          "height": 423
        },
        "id": "2mKM81uIJR0_",
        "outputId": "aed5cc85-bf08-4eb9-b816-0ed37b85d4cf"
      },
      "execution_count": null,
      "outputs": [
        {
          "output_type": "execute_result",
          "data": {
            "text/plain": [
              "    NU_ANO SG_UF_NOT  idade_anos CS_SEXO\n",
              "0     2010        15        47.0       M\n",
              "1     2010        15        46.0       F\n",
              "2     2010        15        10.0       M\n",
              "3     2010        15        31.0       M\n",
              "4     2010        15        21.0       M\n",
              "..     ...       ...         ...     ...\n",
              "125   2010        52        44.0       F\n",
              "126   2010        13        21.0       M\n",
              "127   2010        52        37.0       M\n",
              "128   2010        15        32.0       M\n",
              "129   2010        15        38.0       M\n",
              "\n",
              "[130 rows x 4 columns]"
            ],
            "text/html": [
              "\n",
              "  <div id=\"df-3b6e04c1-9522-4fe6-a462-fd543203a488\" class=\"colab-df-container\">\n",
              "    <div>\n",
              "<style scoped>\n",
              "    .dataframe tbody tr th:only-of-type {\n",
              "        vertical-align: middle;\n",
              "    }\n",
              "\n",
              "    .dataframe tbody tr th {\n",
              "        vertical-align: top;\n",
              "    }\n",
              "\n",
              "    .dataframe thead th {\n",
              "        text-align: right;\n",
              "    }\n",
              "</style>\n",
              "<table border=\"1\" class=\"dataframe\">\n",
              "  <thead>\n",
              "    <tr style=\"text-align: right;\">\n",
              "      <th></th>\n",
              "      <th>NU_ANO</th>\n",
              "      <th>SG_UF_NOT</th>\n",
              "      <th>idade_anos</th>\n",
              "      <th>CS_SEXO</th>\n",
              "    </tr>\n",
              "  </thead>\n",
              "  <tbody>\n",
              "    <tr>\n",
              "      <th>0</th>\n",
              "      <td>2010</td>\n",
              "      <td>15</td>\n",
              "      <td>47.0</td>\n",
              "      <td>M</td>\n",
              "    </tr>\n",
              "    <tr>\n",
              "      <th>1</th>\n",
              "      <td>2010</td>\n",
              "      <td>15</td>\n",
              "      <td>46.0</td>\n",
              "      <td>F</td>\n",
              "    </tr>\n",
              "    <tr>\n",
              "      <th>2</th>\n",
              "      <td>2010</td>\n",
              "      <td>15</td>\n",
              "      <td>10.0</td>\n",
              "      <td>M</td>\n",
              "    </tr>\n",
              "    <tr>\n",
              "      <th>3</th>\n",
              "      <td>2010</td>\n",
              "      <td>15</td>\n",
              "      <td>31.0</td>\n",
              "      <td>M</td>\n",
              "    </tr>\n",
              "    <tr>\n",
              "      <th>4</th>\n",
              "      <td>2010</td>\n",
              "      <td>15</td>\n",
              "      <td>21.0</td>\n",
              "      <td>M</td>\n",
              "    </tr>\n",
              "    <tr>\n",
              "      <th>...</th>\n",
              "      <td>...</td>\n",
              "      <td>...</td>\n",
              "      <td>...</td>\n",
              "      <td>...</td>\n",
              "    </tr>\n",
              "    <tr>\n",
              "      <th>125</th>\n",
              "      <td>2010</td>\n",
              "      <td>52</td>\n",
              "      <td>44.0</td>\n",
              "      <td>F</td>\n",
              "    </tr>\n",
              "    <tr>\n",
              "      <th>126</th>\n",
              "      <td>2010</td>\n",
              "      <td>13</td>\n",
              "      <td>21.0</td>\n",
              "      <td>M</td>\n",
              "    </tr>\n",
              "    <tr>\n",
              "      <th>127</th>\n",
              "      <td>2010</td>\n",
              "      <td>52</td>\n",
              "      <td>37.0</td>\n",
              "      <td>M</td>\n",
              "    </tr>\n",
              "    <tr>\n",
              "      <th>128</th>\n",
              "      <td>2010</td>\n",
              "      <td>15</td>\n",
              "      <td>32.0</td>\n",
              "      <td>M</td>\n",
              "    </tr>\n",
              "    <tr>\n",
              "      <th>129</th>\n",
              "      <td>2010</td>\n",
              "      <td>15</td>\n",
              "      <td>38.0</td>\n",
              "      <td>M</td>\n",
              "    </tr>\n",
              "  </tbody>\n",
              "</table>\n",
              "<p>130 rows × 4 columns</p>\n",
              "</div>\n",
              "    <div class=\"colab-df-buttons\">\n",
              "\n",
              "  <div class=\"colab-df-container\">\n",
              "    <button class=\"colab-df-convert\" onclick=\"convertToInteractive('df-3b6e04c1-9522-4fe6-a462-fd543203a488')\"\n",
              "            title=\"Convert this dataframe to an interactive table.\"\n",
              "            style=\"display:none;\">\n",
              "\n",
              "  <svg xmlns=\"http://www.w3.org/2000/svg\" height=\"24px\" viewBox=\"0 -960 960 960\">\n",
              "    <path d=\"M120-120v-720h720v720H120Zm60-500h600v-160H180v160Zm220 220h160v-160H400v160Zm0 220h160v-160H400v160ZM180-400h160v-160H180v160Zm440 0h160v-160H620v160ZM180-180h160v-160H180v160Zm440 0h160v-160H620v160Z\"/>\n",
              "  </svg>\n",
              "    </button>\n",
              "\n",
              "  <style>\n",
              "    .colab-df-container {\n",
              "      display:flex;\n",
              "      gap: 12px;\n",
              "    }\n",
              "\n",
              "    .colab-df-convert {\n",
              "      background-color: #E8F0FE;\n",
              "      border: none;\n",
              "      border-radius: 50%;\n",
              "      cursor: pointer;\n",
              "      display: none;\n",
              "      fill: #1967D2;\n",
              "      height: 32px;\n",
              "      padding: 0 0 0 0;\n",
              "      width: 32px;\n",
              "    }\n",
              "\n",
              "    .colab-df-convert:hover {\n",
              "      background-color: #E2EBFA;\n",
              "      box-shadow: 0px 1px 2px rgba(60, 64, 67, 0.3), 0px 1px 3px 1px rgba(60, 64, 67, 0.15);\n",
              "      fill: #174EA6;\n",
              "    }\n",
              "\n",
              "    .colab-df-buttons div {\n",
              "      margin-bottom: 4px;\n",
              "    }\n",
              "\n",
              "    [theme=dark] .colab-df-convert {\n",
              "      background-color: #3B4455;\n",
              "      fill: #D2E3FC;\n",
              "    }\n",
              "\n",
              "    [theme=dark] .colab-df-convert:hover {\n",
              "      background-color: #434B5C;\n",
              "      box-shadow: 0px 1px 3px 1px rgba(0, 0, 0, 0.15);\n",
              "      filter: drop-shadow(0px 1px 2px rgba(0, 0, 0, 0.3));\n",
              "      fill: #FFFFFF;\n",
              "    }\n",
              "  </style>\n",
              "\n",
              "    <script>\n",
              "      const buttonEl =\n",
              "        document.querySelector('#df-3b6e04c1-9522-4fe6-a462-fd543203a488 button.colab-df-convert');\n",
              "      buttonEl.style.display =\n",
              "        google.colab.kernel.accessAllowed ? 'block' : 'none';\n",
              "\n",
              "      async function convertToInteractive(key) {\n",
              "        const element = document.querySelector('#df-3b6e04c1-9522-4fe6-a462-fd543203a488');\n",
              "        const dataTable =\n",
              "          await google.colab.kernel.invokeFunction('convertToInteractive',\n",
              "                                                    [key], {});\n",
              "        if (!dataTable) return;\n",
              "\n",
              "        const docLinkHtml = 'Like what you see? Visit the ' +\n",
              "          '<a target=\"_blank\" href=https://colab.research.google.com/notebooks/data_table.ipynb>data table notebook</a>'\n",
              "          + ' to learn more about interactive tables.';\n",
              "        element.innerHTML = '';\n",
              "        dataTable['output_type'] = 'display_data';\n",
              "        await google.colab.output.renderOutput(dataTable, element);\n",
              "        const docLink = document.createElement('div');\n",
              "        docLink.innerHTML = docLinkHtml;\n",
              "        element.appendChild(docLink);\n",
              "      }\n",
              "    </script>\n",
              "  </div>\n",
              "\n",
              "\n",
              "<div id=\"df-49fcbeb5-f4fe-4057-ae47-48cd882ea974\">\n",
              "  <button class=\"colab-df-quickchart\" onclick=\"quickchart('df-49fcbeb5-f4fe-4057-ae47-48cd882ea974')\"\n",
              "            title=\"Suggest charts\"\n",
              "            style=\"display:none;\">\n",
              "\n",
              "<svg xmlns=\"http://www.w3.org/2000/svg\" height=\"24px\"viewBox=\"0 0 24 24\"\n",
              "     width=\"24px\">\n",
              "    <g>\n",
              "        <path d=\"M19 3H5c-1.1 0-2 .9-2 2v14c0 1.1.9 2 2 2h14c1.1 0 2-.9 2-2V5c0-1.1-.9-2-2-2zM9 17H7v-7h2v7zm4 0h-2V7h2v10zm4 0h-2v-4h2v4z\"/>\n",
              "    </g>\n",
              "</svg>\n",
              "  </button>\n",
              "\n",
              "<style>\n",
              "  .colab-df-quickchart {\n",
              "      --bg-color: #E8F0FE;\n",
              "      --fill-color: #1967D2;\n",
              "      --hover-bg-color: #E2EBFA;\n",
              "      --hover-fill-color: #174EA6;\n",
              "      --disabled-fill-color: #AAA;\n",
              "      --disabled-bg-color: #DDD;\n",
              "  }\n",
              "\n",
              "  [theme=dark] .colab-df-quickchart {\n",
              "      --bg-color: #3B4455;\n",
              "      --fill-color: #D2E3FC;\n",
              "      --hover-bg-color: #434B5C;\n",
              "      --hover-fill-color: #FFFFFF;\n",
              "      --disabled-bg-color: #3B4455;\n",
              "      --disabled-fill-color: #666;\n",
              "  }\n",
              "\n",
              "  .colab-df-quickchart {\n",
              "    background-color: var(--bg-color);\n",
              "    border: none;\n",
              "    border-radius: 50%;\n",
              "    cursor: pointer;\n",
              "    display: none;\n",
              "    fill: var(--fill-color);\n",
              "    height: 32px;\n",
              "    padding: 0;\n",
              "    width: 32px;\n",
              "  }\n",
              "\n",
              "  .colab-df-quickchart:hover {\n",
              "    background-color: var(--hover-bg-color);\n",
              "    box-shadow: 0 1px 2px rgba(60, 64, 67, 0.3), 0 1px 3px 1px rgba(60, 64, 67, 0.15);\n",
              "    fill: var(--button-hover-fill-color);\n",
              "  }\n",
              "\n",
              "  .colab-df-quickchart-complete:disabled,\n",
              "  .colab-df-quickchart-complete:disabled:hover {\n",
              "    background-color: var(--disabled-bg-color);\n",
              "    fill: var(--disabled-fill-color);\n",
              "    box-shadow: none;\n",
              "  }\n",
              "\n",
              "  .colab-df-spinner {\n",
              "    border: 2px solid var(--fill-color);\n",
              "    border-color: transparent;\n",
              "    border-bottom-color: var(--fill-color);\n",
              "    animation:\n",
              "      spin 1s steps(1) infinite;\n",
              "  }\n",
              "\n",
              "  @keyframes spin {\n",
              "    0% {\n",
              "      border-color: transparent;\n",
              "      border-bottom-color: var(--fill-color);\n",
              "      border-left-color: var(--fill-color);\n",
              "    }\n",
              "    20% {\n",
              "      border-color: transparent;\n",
              "      border-left-color: var(--fill-color);\n",
              "      border-top-color: var(--fill-color);\n",
              "    }\n",
              "    30% {\n",
              "      border-color: transparent;\n",
              "      border-left-color: var(--fill-color);\n",
              "      border-top-color: var(--fill-color);\n",
              "      border-right-color: var(--fill-color);\n",
              "    }\n",
              "    40% {\n",
              "      border-color: transparent;\n",
              "      border-right-color: var(--fill-color);\n",
              "      border-top-color: var(--fill-color);\n",
              "    }\n",
              "    60% {\n",
              "      border-color: transparent;\n",
              "      border-right-color: var(--fill-color);\n",
              "    }\n",
              "    80% {\n",
              "      border-color: transparent;\n",
              "      border-right-color: var(--fill-color);\n",
              "      border-bottom-color: var(--fill-color);\n",
              "    }\n",
              "    90% {\n",
              "      border-color: transparent;\n",
              "      border-bottom-color: var(--fill-color);\n",
              "    }\n",
              "  }\n",
              "</style>\n",
              "\n",
              "  <script>\n",
              "    async function quickchart(key) {\n",
              "      const quickchartButtonEl =\n",
              "        document.querySelector('#' + key + ' button');\n",
              "      quickchartButtonEl.disabled = true;  // To prevent multiple clicks.\n",
              "      quickchartButtonEl.classList.add('colab-df-spinner');\n",
              "      try {\n",
              "        const charts = await google.colab.kernel.invokeFunction(\n",
              "            'suggestCharts', [key], {});\n",
              "      } catch (error) {\n",
              "        console.error('Error during call to suggestCharts:', error);\n",
              "      }\n",
              "      quickchartButtonEl.classList.remove('colab-df-spinner');\n",
              "      quickchartButtonEl.classList.add('colab-df-quickchart-complete');\n",
              "    }\n",
              "    (() => {\n",
              "      let quickchartButtonEl =\n",
              "        document.querySelector('#df-49fcbeb5-f4fe-4057-ae47-48cd882ea974 button');\n",
              "      quickchartButtonEl.style.display =\n",
              "        google.colab.kernel.accessAllowed ? 'block' : 'none';\n",
              "    })();\n",
              "  </script>\n",
              "</div>\n",
              "    </div>\n",
              "  </div>\n"
            ],
            "application/vnd.google.colaboratory.intrinsic+json": {
              "type": "dataframe",
              "variable_name": "df_chag_10",
              "summary": "{\n  \"name\": \"df_chag_10\",\n  \"rows\": 130,\n  \"fields\": [\n    {\n      \"column\": \"NU_ANO\",\n      \"properties\": {\n        \"dtype\": \"string\",\n        \"num_unique_values\": 1,\n        \"samples\": [\n          \"2010\"\n        ],\n        \"semantic_type\": \"\",\n        \"description\": \"\"\n      }\n    },\n    {\n      \"column\": \"SG_UF_NOT\",\n      \"properties\": {\n        \"dtype\": \"string\",\n        \"num_unique_values\": 9,\n        \"samples\": [\n          \"28\"\n        ],\n        \"semantic_type\": \"\",\n        \"description\": \"\"\n      }\n    },\n    {\n      \"column\": \"idade_anos\",\n      \"properties\": {\n        \"dtype\": \"number\",\n        \"std\": 19.518644506041145,\n        \"min\": 0.9166666666666666,\n        \"max\": 86.0,\n        \"num_unique_values\": 65,\n        \"samples\": [\n          9.0\n        ],\n        \"semantic_type\": \"\",\n        \"description\": \"\"\n      }\n    },\n    {\n      \"column\": \"CS_SEXO\",\n      \"properties\": {\n        \"dtype\": \"string\",\n        \"num_unique_values\": 2,\n        \"samples\": [\n          \"F\"\n        ],\n        \"semantic_type\": \"\",\n        \"description\": \"\"\n      }\n    }\n  ]\n}"
            }
          },
          "metadata": {},
          "execution_count": 30
        }
      ]
    },
    {
      "cell_type": "code",
      "source": [
        "df_chag_11['idade_anos'] = decodifica_idade_SINAN(df_chag_11.NU_IDADE_N, 'Y')\n",
        "df_chag_11 = df_chag_11[['NU_ANO', 'SG_UF_NOT', 'idade_anos', 'CS_SEXO']]"
      ],
      "metadata": {
        "id": "83U9veAbtWbs"
      },
      "execution_count": null,
      "outputs": []
    },
    {
      "cell_type": "code",
      "source": [
        "df_chag_12['idade_anos'] = decodifica_idade_SINAN(df_chag_12.NU_IDADE_N, 'Y')\n",
        "df_chag_12 = df_chag_12[['NU_ANO', 'SG_UF_NOT', 'idade_anos', 'CS_SEXO']]"
      ],
      "metadata": {
        "id": "tKmIt1LctWlU"
      },
      "execution_count": null,
      "outputs": []
    },
    {
      "cell_type": "code",
      "source": [
        "df_chag_13['idade_anos'] = decodifica_idade_SINAN(df_chag_13.NU_IDADE_N, 'Y')\n",
        "df_chag_13 = df_chag_13[['NU_ANO', 'SG_UF_NOT', 'idade_anos', 'CS_SEXO']]"
      ],
      "metadata": {
        "id": "aVWPbJTRtWto"
      },
      "execution_count": null,
      "outputs": []
    },
    {
      "cell_type": "code",
      "source": [
        "df_chag_14['idade_anos'] = decodifica_idade_SINAN(df_chag_14.NU_IDADE_N, 'Y')\n",
        "df_chag_14 = df_chag_14[['NU_ANO', 'SG_UF_NOT', 'idade_anos', 'CS_SEXO']]"
      ],
      "metadata": {
        "id": "KksgCp6itW1G"
      },
      "execution_count": null,
      "outputs": []
    },
    {
      "cell_type": "code",
      "source": [
        "df_chag_15['idade_anos'] = decodifica_idade_SINAN(df_chag_15.NU_IDADE_N, 'Y')\n",
        "df_chag_15 = df_chag_15[['NU_ANO', 'SG_UF_NOT', 'idade_anos', 'CS_SEXO']]"
      ],
      "metadata": {
        "id": "s5NjKGTrtW87"
      },
      "execution_count": null,
      "outputs": []
    },
    {
      "cell_type": "code",
      "source": [
        "df_chag_16['idade_anos'] = decodifica_idade_SINAN(df_chag_16.NU_IDADE_N, 'Y')\n",
        "df_chag_16 = df_chag_16[['NU_ANO', 'SG_UF_NOT', 'idade_anos', 'CS_SEXO']]"
      ],
      "metadata": {
        "id": "UCfXkSG0tXFT"
      },
      "execution_count": null,
      "outputs": []
    },
    {
      "cell_type": "code",
      "source": [
        "df_chag_17['idade_anos'] = decodifica_idade_SINAN(df_chag_17.NU_IDADE_N, 'Y')\n",
        "df_chag_17 = df_chag_17[['NU_ANO', 'SG_UF_NOT', 'idade_anos', 'CS_SEXO']]"
      ],
      "metadata": {
        "id": "WOR6JMontXPJ"
      },
      "execution_count": null,
      "outputs": []
    },
    {
      "cell_type": "code",
      "source": [
        "df_chag_18['idade_anos'] = decodifica_idade_SINAN(df_chag_18.NU_IDADE_N, 'Y')\n",
        "df_chag_18 = df_chag_18[['NU_ANO', 'SG_UF_NOT', 'idade_anos', 'CS_SEXO']]"
      ],
      "metadata": {
        "id": "32WpwEXbtXdS"
      },
      "execution_count": null,
      "outputs": []
    },
    {
      "cell_type": "code",
      "source": [
        "df_chag_20['idade_anos'] = decodifica_idade_SINAN(df_chag_20.NU_IDADE_N, 'Y')\n",
        "df_chag_20 = df_chag_20[['NU_ANO', 'SG_UF_NOT', 'idade_anos', 'CS_SEXO']]"
      ],
      "metadata": {
        "id": "8iztCHiXtaeo"
      },
      "execution_count": null,
      "outputs": []
    },
    {
      "cell_type": "code",
      "source": [
        "df_chag_21['idade_anos'] = decodifica_idade_SINAN(df_chag_21.NU_IDADE_N, 'Y')\n",
        "df_chag_21 = df_chag_21[['NU_ANO', 'SG_UF_NOT', 'idade_anos', 'CS_SEXO']]"
      ],
      "metadata": {
        "id": "Po33R67StrAz"
      },
      "execution_count": null,
      "outputs": []
    },
    {
      "cell_type": "code",
      "source": [
        "df_chag_22['idade_anos'] = decodifica_idade_SINAN(df_chag_22.NU_IDADE_N, 'Y')\n",
        "df_chag_22 = df_chag_22[['NU_ANO', 'SG_UF_NOT', 'idade_anos', 'CS_SEXO']]"
      ],
      "metadata": {
        "id": "h2kSKHdQtrNT"
      },
      "execution_count": null,
      "outputs": []
    },
    {
      "cell_type": "code",
      "source": [
        "df_chag_19_clean = df_chag_19[['NU_ANO', 'SG_UF_NOT', 'idade_anos', 'CS_SEXO']]"
      ],
      "metadata": {
        "id": "8aiS6yDeoxq8"
      },
      "execution_count": null,
      "outputs": []
    },
    {
      "cell_type": "code",
      "source": [
        "df_chag_19_clean"
      ],
      "metadata": {
        "id": "3TYmwG9rpZCH",
        "colab": {
          "base_uri": "https://localhost:8080/",
          "height": 423
        },
        "outputId": "94d69d59-a86e-49f5-feb2-8e509479dc44"
      },
      "execution_count": null,
      "outputs": [
        {
          "output_type": "execute_result",
          "data": {
            "text/plain": [
              "     NU_ANO SG_UF_NOT  idade_anos CS_SEXO\n",
              "0      2019        16        13.0       M\n",
              "1      2019        16        54.0       F\n",
              "2      2019        16        31.0       F\n",
              "3      2019        16        63.0       F\n",
              "4      2019        16        36.0       M\n",
              "...     ...       ...         ...     ...\n",
              "4477   2019        26        79.0       M\n",
              "4478   2019        26        63.0       F\n",
              "4479   2019        26        39.0       F\n",
              "4480   2019        26        36.0       M\n",
              "4481   2019        26        52.0       M\n",
              "\n",
              "[4482 rows x 4 columns]"
            ],
            "text/html": [
              "\n",
              "  <div id=\"df-869b5c98-88f0-443b-9222-5bd3bfef9f63\" class=\"colab-df-container\">\n",
              "    <div>\n",
              "<style scoped>\n",
              "    .dataframe tbody tr th:only-of-type {\n",
              "        vertical-align: middle;\n",
              "    }\n",
              "\n",
              "    .dataframe tbody tr th {\n",
              "        vertical-align: top;\n",
              "    }\n",
              "\n",
              "    .dataframe thead th {\n",
              "        text-align: right;\n",
              "    }\n",
              "</style>\n",
              "<table border=\"1\" class=\"dataframe\">\n",
              "  <thead>\n",
              "    <tr style=\"text-align: right;\">\n",
              "      <th></th>\n",
              "      <th>NU_ANO</th>\n",
              "      <th>SG_UF_NOT</th>\n",
              "      <th>idade_anos</th>\n",
              "      <th>CS_SEXO</th>\n",
              "    </tr>\n",
              "  </thead>\n",
              "  <tbody>\n",
              "    <tr>\n",
              "      <th>0</th>\n",
              "      <td>2019</td>\n",
              "      <td>16</td>\n",
              "      <td>13.0</td>\n",
              "      <td>M</td>\n",
              "    </tr>\n",
              "    <tr>\n",
              "      <th>1</th>\n",
              "      <td>2019</td>\n",
              "      <td>16</td>\n",
              "      <td>54.0</td>\n",
              "      <td>F</td>\n",
              "    </tr>\n",
              "    <tr>\n",
              "      <th>2</th>\n",
              "      <td>2019</td>\n",
              "      <td>16</td>\n",
              "      <td>31.0</td>\n",
              "      <td>F</td>\n",
              "    </tr>\n",
              "    <tr>\n",
              "      <th>3</th>\n",
              "      <td>2019</td>\n",
              "      <td>16</td>\n",
              "      <td>63.0</td>\n",
              "      <td>F</td>\n",
              "    </tr>\n",
              "    <tr>\n",
              "      <th>4</th>\n",
              "      <td>2019</td>\n",
              "      <td>16</td>\n",
              "      <td>36.0</td>\n",
              "      <td>M</td>\n",
              "    </tr>\n",
              "    <tr>\n",
              "      <th>...</th>\n",
              "      <td>...</td>\n",
              "      <td>...</td>\n",
              "      <td>...</td>\n",
              "      <td>...</td>\n",
              "    </tr>\n",
              "    <tr>\n",
              "      <th>4477</th>\n",
              "      <td>2019</td>\n",
              "      <td>26</td>\n",
              "      <td>79.0</td>\n",
              "      <td>M</td>\n",
              "    </tr>\n",
              "    <tr>\n",
              "      <th>4478</th>\n",
              "      <td>2019</td>\n",
              "      <td>26</td>\n",
              "      <td>63.0</td>\n",
              "      <td>F</td>\n",
              "    </tr>\n",
              "    <tr>\n",
              "      <th>4479</th>\n",
              "      <td>2019</td>\n",
              "      <td>26</td>\n",
              "      <td>39.0</td>\n",
              "      <td>F</td>\n",
              "    </tr>\n",
              "    <tr>\n",
              "      <th>4480</th>\n",
              "      <td>2019</td>\n",
              "      <td>26</td>\n",
              "      <td>36.0</td>\n",
              "      <td>M</td>\n",
              "    </tr>\n",
              "    <tr>\n",
              "      <th>4481</th>\n",
              "      <td>2019</td>\n",
              "      <td>26</td>\n",
              "      <td>52.0</td>\n",
              "      <td>M</td>\n",
              "    </tr>\n",
              "  </tbody>\n",
              "</table>\n",
              "<p>4482 rows × 4 columns</p>\n",
              "</div>\n",
              "    <div class=\"colab-df-buttons\">\n",
              "\n",
              "  <div class=\"colab-df-container\">\n",
              "    <button class=\"colab-df-convert\" onclick=\"convertToInteractive('df-869b5c98-88f0-443b-9222-5bd3bfef9f63')\"\n",
              "            title=\"Convert this dataframe to an interactive table.\"\n",
              "            style=\"display:none;\">\n",
              "\n",
              "  <svg xmlns=\"http://www.w3.org/2000/svg\" height=\"24px\" viewBox=\"0 -960 960 960\">\n",
              "    <path d=\"M120-120v-720h720v720H120Zm60-500h600v-160H180v160Zm220 220h160v-160H400v160Zm0 220h160v-160H400v160ZM180-400h160v-160H180v160Zm440 0h160v-160H620v160ZM180-180h160v-160H180v160Zm440 0h160v-160H620v160Z\"/>\n",
              "  </svg>\n",
              "    </button>\n",
              "\n",
              "  <style>\n",
              "    .colab-df-container {\n",
              "      display:flex;\n",
              "      gap: 12px;\n",
              "    }\n",
              "\n",
              "    .colab-df-convert {\n",
              "      background-color: #E8F0FE;\n",
              "      border: none;\n",
              "      border-radius: 50%;\n",
              "      cursor: pointer;\n",
              "      display: none;\n",
              "      fill: #1967D2;\n",
              "      height: 32px;\n",
              "      padding: 0 0 0 0;\n",
              "      width: 32px;\n",
              "    }\n",
              "\n",
              "    .colab-df-convert:hover {\n",
              "      background-color: #E2EBFA;\n",
              "      box-shadow: 0px 1px 2px rgba(60, 64, 67, 0.3), 0px 1px 3px 1px rgba(60, 64, 67, 0.15);\n",
              "      fill: #174EA6;\n",
              "    }\n",
              "\n",
              "    .colab-df-buttons div {\n",
              "      margin-bottom: 4px;\n",
              "    }\n",
              "\n",
              "    [theme=dark] .colab-df-convert {\n",
              "      background-color: #3B4455;\n",
              "      fill: #D2E3FC;\n",
              "    }\n",
              "\n",
              "    [theme=dark] .colab-df-convert:hover {\n",
              "      background-color: #434B5C;\n",
              "      box-shadow: 0px 1px 3px 1px rgba(0, 0, 0, 0.15);\n",
              "      filter: drop-shadow(0px 1px 2px rgba(0, 0, 0, 0.3));\n",
              "      fill: #FFFFFF;\n",
              "    }\n",
              "  </style>\n",
              "\n",
              "    <script>\n",
              "      const buttonEl =\n",
              "        document.querySelector('#df-869b5c98-88f0-443b-9222-5bd3bfef9f63 button.colab-df-convert');\n",
              "      buttonEl.style.display =\n",
              "        google.colab.kernel.accessAllowed ? 'block' : 'none';\n",
              "\n",
              "      async function convertToInteractive(key) {\n",
              "        const element = document.querySelector('#df-869b5c98-88f0-443b-9222-5bd3bfef9f63');\n",
              "        const dataTable =\n",
              "          await google.colab.kernel.invokeFunction('convertToInteractive',\n",
              "                                                    [key], {});\n",
              "        if (!dataTable) return;\n",
              "\n",
              "        const docLinkHtml = 'Like what you see? Visit the ' +\n",
              "          '<a target=\"_blank\" href=https://colab.research.google.com/notebooks/data_table.ipynb>data table notebook</a>'\n",
              "          + ' to learn more about interactive tables.';\n",
              "        element.innerHTML = '';\n",
              "        dataTable['output_type'] = 'display_data';\n",
              "        await google.colab.output.renderOutput(dataTable, element);\n",
              "        const docLink = document.createElement('div');\n",
              "        docLink.innerHTML = docLinkHtml;\n",
              "        element.appendChild(docLink);\n",
              "      }\n",
              "    </script>\n",
              "  </div>\n",
              "\n",
              "\n",
              "<div id=\"df-332c15da-ebd1-4ffe-8301-c70096198ea6\">\n",
              "  <button class=\"colab-df-quickchart\" onclick=\"quickchart('df-332c15da-ebd1-4ffe-8301-c70096198ea6')\"\n",
              "            title=\"Suggest charts\"\n",
              "            style=\"display:none;\">\n",
              "\n",
              "<svg xmlns=\"http://www.w3.org/2000/svg\" height=\"24px\"viewBox=\"0 0 24 24\"\n",
              "     width=\"24px\">\n",
              "    <g>\n",
              "        <path d=\"M19 3H5c-1.1 0-2 .9-2 2v14c0 1.1.9 2 2 2h14c1.1 0 2-.9 2-2V5c0-1.1-.9-2-2-2zM9 17H7v-7h2v7zm4 0h-2V7h2v10zm4 0h-2v-4h2v4z\"/>\n",
              "    </g>\n",
              "</svg>\n",
              "  </button>\n",
              "\n",
              "<style>\n",
              "  .colab-df-quickchart {\n",
              "      --bg-color: #E8F0FE;\n",
              "      --fill-color: #1967D2;\n",
              "      --hover-bg-color: #E2EBFA;\n",
              "      --hover-fill-color: #174EA6;\n",
              "      --disabled-fill-color: #AAA;\n",
              "      --disabled-bg-color: #DDD;\n",
              "  }\n",
              "\n",
              "  [theme=dark] .colab-df-quickchart {\n",
              "      --bg-color: #3B4455;\n",
              "      --fill-color: #D2E3FC;\n",
              "      --hover-bg-color: #434B5C;\n",
              "      --hover-fill-color: #FFFFFF;\n",
              "      --disabled-bg-color: #3B4455;\n",
              "      --disabled-fill-color: #666;\n",
              "  }\n",
              "\n",
              "  .colab-df-quickchart {\n",
              "    background-color: var(--bg-color);\n",
              "    border: none;\n",
              "    border-radius: 50%;\n",
              "    cursor: pointer;\n",
              "    display: none;\n",
              "    fill: var(--fill-color);\n",
              "    height: 32px;\n",
              "    padding: 0;\n",
              "    width: 32px;\n",
              "  }\n",
              "\n",
              "  .colab-df-quickchart:hover {\n",
              "    background-color: var(--hover-bg-color);\n",
              "    box-shadow: 0 1px 2px rgba(60, 64, 67, 0.3), 0 1px 3px 1px rgba(60, 64, 67, 0.15);\n",
              "    fill: var(--button-hover-fill-color);\n",
              "  }\n",
              "\n",
              "  .colab-df-quickchart-complete:disabled,\n",
              "  .colab-df-quickchart-complete:disabled:hover {\n",
              "    background-color: var(--disabled-bg-color);\n",
              "    fill: var(--disabled-fill-color);\n",
              "    box-shadow: none;\n",
              "  }\n",
              "\n",
              "  .colab-df-spinner {\n",
              "    border: 2px solid var(--fill-color);\n",
              "    border-color: transparent;\n",
              "    border-bottom-color: var(--fill-color);\n",
              "    animation:\n",
              "      spin 1s steps(1) infinite;\n",
              "  }\n",
              "\n",
              "  @keyframes spin {\n",
              "    0% {\n",
              "      border-color: transparent;\n",
              "      border-bottom-color: var(--fill-color);\n",
              "      border-left-color: var(--fill-color);\n",
              "    }\n",
              "    20% {\n",
              "      border-color: transparent;\n",
              "      border-left-color: var(--fill-color);\n",
              "      border-top-color: var(--fill-color);\n",
              "    }\n",
              "    30% {\n",
              "      border-color: transparent;\n",
              "      border-left-color: var(--fill-color);\n",
              "      border-top-color: var(--fill-color);\n",
              "      border-right-color: var(--fill-color);\n",
              "    }\n",
              "    40% {\n",
              "      border-color: transparent;\n",
              "      border-right-color: var(--fill-color);\n",
              "      border-top-color: var(--fill-color);\n",
              "    }\n",
              "    60% {\n",
              "      border-color: transparent;\n",
              "      border-right-color: var(--fill-color);\n",
              "    }\n",
              "    80% {\n",
              "      border-color: transparent;\n",
              "      border-right-color: var(--fill-color);\n",
              "      border-bottom-color: var(--fill-color);\n",
              "    }\n",
              "    90% {\n",
              "      border-color: transparent;\n",
              "      border-bottom-color: var(--fill-color);\n",
              "    }\n",
              "  }\n",
              "</style>\n",
              "\n",
              "  <script>\n",
              "    async function quickchart(key) {\n",
              "      const quickchartButtonEl =\n",
              "        document.querySelector('#' + key + ' button');\n",
              "      quickchartButtonEl.disabled = true;  // To prevent multiple clicks.\n",
              "      quickchartButtonEl.classList.add('colab-df-spinner');\n",
              "      try {\n",
              "        const charts = await google.colab.kernel.invokeFunction(\n",
              "            'suggestCharts', [key], {});\n",
              "      } catch (error) {\n",
              "        console.error('Error during call to suggestCharts:', error);\n",
              "      }\n",
              "      quickchartButtonEl.classList.remove('colab-df-spinner');\n",
              "      quickchartButtonEl.classList.add('colab-df-quickchart-complete');\n",
              "    }\n",
              "    (() => {\n",
              "      let quickchartButtonEl =\n",
              "        document.querySelector('#df-332c15da-ebd1-4ffe-8301-c70096198ea6 button');\n",
              "      quickchartButtonEl.style.display =\n",
              "        google.colab.kernel.accessAllowed ? 'block' : 'none';\n",
              "    })();\n",
              "  </script>\n",
              "</div>\n",
              "    </div>\n",
              "  </div>\n"
            ],
            "application/vnd.google.colaboratory.intrinsic+json": {
              "type": "dataframe",
              "variable_name": "df_chag_19_clean",
              "summary": "{\n  \"name\": \"df_chag_19_clean\",\n  \"rows\": 4482,\n  \"fields\": [\n    {\n      \"column\": \"NU_ANO\",\n      \"properties\": {\n        \"dtype\": \"string\",\n        \"num_unique_values\": 1,\n        \"samples\": [\n          \"2019\"\n        ],\n        \"semantic_type\": \"\",\n        \"description\": \"\"\n      }\n    },\n    {\n      \"column\": \"SG_UF_NOT\",\n      \"properties\": {\n        \"dtype\": \"string\",\n        \"num_unique_values\": 27,\n        \"samples\": [\n          \"21\"\n        ],\n        \"semantic_type\": \"\",\n        \"description\": \"\"\n      }\n    },\n    {\n      \"column\": \"idade_anos\",\n      \"properties\": {\n        \"dtype\": \"number\",\n        \"std\": 21.534308669698916,\n        \"min\": 0.0,\n        \"max\": 98.0,\n        \"num_unique_values\": 117,\n        \"samples\": [\n          62.0\n        ],\n        \"semantic_type\": \"\",\n        \"description\": \"\"\n      }\n    },\n    {\n      \"column\": \"CS_SEXO\",\n      \"properties\": {\n        \"dtype\": \"string\",\n        \"num_unique_values\": 2,\n        \"samples\": [\n          \"F\"\n        ],\n        \"semantic_type\": \"\",\n        \"description\": \"\"\n      }\n    }\n  ]\n}"
            }
          },
          "metadata": {},
          "execution_count": 43
        }
      ]
    },
    {
      "cell_type": "code",
      "source": [
        "dados_chagas = [df_chag_10, df_chag_11, df_chag_12, df_chag_13, df_chag_14, df_chag_15, df_chag_16, df_chag_17, df_chag_17,\n",
        "                df_chag_18, df_chag_19_clean, df_chag_20, df_chag_21, df_c hag_22]"
      ],
      "metadata": {
        "id": "yuZ-BmHNqm_m"
      },
      "execution_count": null,
      "outputs": []
    },
    {
      "cell_type": "code",
      "source": [
        "dados_chag_concat = pd.concat(dados_chagas)"
      ],
      "metadata": {
        "id": "Ks2nramKvDpL"
      },
      "execution_count": null,
      "outputs": []
    },
    {
      "cell_type": "code",
      "source": [
        "dados_chag_concat['SG_UF_NOT'] = dados_chag_concat['SG_UF_NOT'].replace(['0', '99', '11', '12', '13', '14', '15', '16', '17',\n",
        "                                                                         '21', '22', '23', '24', '25', '26', '27', '28', '29', '31',\n",
        "                                                                         '32', '33', '35', '41', '42', '43', '50', '51', '52', '53'],\n",
        "                                                                         ['Ignorado', 'Ignorado', 'Rondônia', 'Acre', 'Amazonas', 'Roraima', 'Pará', 'Amapá', 'Tocantins',\n",
        "                                                                          'Maranhão', 'Piauí', 'Ceará', 'Rio Grande do Norte', 'Paraíba', 'Pernambuco', 'Alagoas', 'Sergipe', 'Bahia', 'Minas Gerais',\n",
        "                                                                          'Espírito Santo', 'Rio de Janeiro', 'São Paulo', 'Paraná', 'Santa Catarina', 'Rio Grande do Sul', 'Mato Grosso do Sul', 'Mato Grosso', 'Goiás', 'Distrito Federal'])\n"
      ],
      "metadata": {
        "id": "8IIxxNZNGClm"
      },
      "execution_count": null,
      "outputs": []
    },
    {
      "cell_type": "code",
      "source": [
        "dados_chag_concat"
      ],
      "metadata": {
        "id": "tde2TRnEvOTB",
        "colab": {
          "base_uri": "https://localhost:8080/",
          "height": 423
        },
        "outputId": "0d30cc31-12af-4f3e-faa5-2a25c950a443"
      },
      "execution_count": null,
      "outputs": [
        {
          "output_type": "execute_result",
          "data": {
            "text/plain": [
              "     NU_ANO SG_UF_NOT  idade_anos CS_SEXO\n",
              "0      2010      Pará        47.0       M\n",
              "1      2010      Pará        46.0       F\n",
              "2      2010      Pará        10.0       M\n",
              "3      2010      Pará        31.0       M\n",
              "4      2010      Pará        21.0       M\n",
              "...     ...       ...         ...     ...\n",
              "5189   2022  Amazonas        56.0       M\n",
              "5190   2022      Pará        41.0       F\n",
              "5191   2022      Pará        21.0       F\n",
              "5192   2022     Amapá        44.0       F\n",
              "5193   2022     Ceará        89.0       F\n",
              "\n",
              "[48242 rows x 4 columns]"
            ],
            "text/html": [
              "\n",
              "  <div id=\"df-6377b60d-6e84-49b9-88fc-3f7f89eafc97\" class=\"colab-df-container\">\n",
              "    <div>\n",
              "<style scoped>\n",
              "    .dataframe tbody tr th:only-of-type {\n",
              "        vertical-align: middle;\n",
              "    }\n",
              "\n",
              "    .dataframe tbody tr th {\n",
              "        vertical-align: top;\n",
              "    }\n",
              "\n",
              "    .dataframe thead th {\n",
              "        text-align: right;\n",
              "    }\n",
              "</style>\n",
              "<table border=\"1\" class=\"dataframe\">\n",
              "  <thead>\n",
              "    <tr style=\"text-align: right;\">\n",
              "      <th></th>\n",
              "      <th>NU_ANO</th>\n",
              "      <th>SG_UF_NOT</th>\n",
              "      <th>idade_anos</th>\n",
              "      <th>CS_SEXO</th>\n",
              "    </tr>\n",
              "  </thead>\n",
              "  <tbody>\n",
              "    <tr>\n",
              "      <th>0</th>\n",
              "      <td>2010</td>\n",
              "      <td>Pará</td>\n",
              "      <td>47.0</td>\n",
              "      <td>M</td>\n",
              "    </tr>\n",
              "    <tr>\n",
              "      <th>1</th>\n",
              "      <td>2010</td>\n",
              "      <td>Pará</td>\n",
              "      <td>46.0</td>\n",
              "      <td>F</td>\n",
              "    </tr>\n",
              "    <tr>\n",
              "      <th>2</th>\n",
              "      <td>2010</td>\n",
              "      <td>Pará</td>\n",
              "      <td>10.0</td>\n",
              "      <td>M</td>\n",
              "    </tr>\n",
              "    <tr>\n",
              "      <th>3</th>\n",
              "      <td>2010</td>\n",
              "      <td>Pará</td>\n",
              "      <td>31.0</td>\n",
              "      <td>M</td>\n",
              "    </tr>\n",
              "    <tr>\n",
              "      <th>4</th>\n",
              "      <td>2010</td>\n",
              "      <td>Pará</td>\n",
              "      <td>21.0</td>\n",
              "      <td>M</td>\n",
              "    </tr>\n",
              "    <tr>\n",
              "      <th>...</th>\n",
              "      <td>...</td>\n",
              "      <td>...</td>\n",
              "      <td>...</td>\n",
              "      <td>...</td>\n",
              "    </tr>\n",
              "    <tr>\n",
              "      <th>5189</th>\n",
              "      <td>2022</td>\n",
              "      <td>Amazonas</td>\n",
              "      <td>56.0</td>\n",
              "      <td>M</td>\n",
              "    </tr>\n",
              "    <tr>\n",
              "      <th>5190</th>\n",
              "      <td>2022</td>\n",
              "      <td>Pará</td>\n",
              "      <td>41.0</td>\n",
              "      <td>F</td>\n",
              "    </tr>\n",
              "    <tr>\n",
              "      <th>5191</th>\n",
              "      <td>2022</td>\n",
              "      <td>Pará</td>\n",
              "      <td>21.0</td>\n",
              "      <td>F</td>\n",
              "    </tr>\n",
              "    <tr>\n",
              "      <th>5192</th>\n",
              "      <td>2022</td>\n",
              "      <td>Amapá</td>\n",
              "      <td>44.0</td>\n",
              "      <td>F</td>\n",
              "    </tr>\n",
              "    <tr>\n",
              "      <th>5193</th>\n",
              "      <td>2022</td>\n",
              "      <td>Ceará</td>\n",
              "      <td>89.0</td>\n",
              "      <td>F</td>\n",
              "    </tr>\n",
              "  </tbody>\n",
              "</table>\n",
              "<p>48242 rows × 4 columns</p>\n",
              "</div>\n",
              "    <div class=\"colab-df-buttons\">\n",
              "\n",
              "  <div class=\"colab-df-container\">\n",
              "    <button class=\"colab-df-convert\" onclick=\"convertToInteractive('df-6377b60d-6e84-49b9-88fc-3f7f89eafc97')\"\n",
              "            title=\"Convert this dataframe to an interactive table.\"\n",
              "            style=\"display:none;\">\n",
              "\n",
              "  <svg xmlns=\"http://www.w3.org/2000/svg\" height=\"24px\" viewBox=\"0 -960 960 960\">\n",
              "    <path d=\"M120-120v-720h720v720H120Zm60-500h600v-160H180v160Zm220 220h160v-160H400v160Zm0 220h160v-160H400v160ZM180-400h160v-160H180v160Zm440 0h160v-160H620v160ZM180-180h160v-160H180v160Zm440 0h160v-160H620v160Z\"/>\n",
              "  </svg>\n",
              "    </button>\n",
              "\n",
              "  <style>\n",
              "    .colab-df-container {\n",
              "      display:flex;\n",
              "      gap: 12px;\n",
              "    }\n",
              "\n",
              "    .colab-df-convert {\n",
              "      background-color: #E8F0FE;\n",
              "      border: none;\n",
              "      border-radius: 50%;\n",
              "      cursor: pointer;\n",
              "      display: none;\n",
              "      fill: #1967D2;\n",
              "      height: 32px;\n",
              "      padding: 0 0 0 0;\n",
              "      width: 32px;\n",
              "    }\n",
              "\n",
              "    .colab-df-convert:hover {\n",
              "      background-color: #E2EBFA;\n",
              "      box-shadow: 0px 1px 2px rgba(60, 64, 67, 0.3), 0px 1px 3px 1px rgba(60, 64, 67, 0.15);\n",
              "      fill: #174EA6;\n",
              "    }\n",
              "\n",
              "    .colab-df-buttons div {\n",
              "      margin-bottom: 4px;\n",
              "    }\n",
              "\n",
              "    [theme=dark] .colab-df-convert {\n",
              "      background-color: #3B4455;\n",
              "      fill: #D2E3FC;\n",
              "    }\n",
              "\n",
              "    [theme=dark] .colab-df-convert:hover {\n",
              "      background-color: #434B5C;\n",
              "      box-shadow: 0px 1px 3px 1px rgba(0, 0, 0, 0.15);\n",
              "      filter: drop-shadow(0px 1px 2px rgba(0, 0, 0, 0.3));\n",
              "      fill: #FFFFFF;\n",
              "    }\n",
              "  </style>\n",
              "\n",
              "    <script>\n",
              "      const buttonEl =\n",
              "        document.querySelector('#df-6377b60d-6e84-49b9-88fc-3f7f89eafc97 button.colab-df-convert');\n",
              "      buttonEl.style.display =\n",
              "        google.colab.kernel.accessAllowed ? 'block' : 'none';\n",
              "\n",
              "      async function convertToInteractive(key) {\n",
              "        const element = document.querySelector('#df-6377b60d-6e84-49b9-88fc-3f7f89eafc97');\n",
              "        const dataTable =\n",
              "          await google.colab.kernel.invokeFunction('convertToInteractive',\n",
              "                                                    [key], {});\n",
              "        if (!dataTable) return;\n",
              "\n",
              "        const docLinkHtml = 'Like what you see? Visit the ' +\n",
              "          '<a target=\"_blank\" href=https://colab.research.google.com/notebooks/data_table.ipynb>data table notebook</a>'\n",
              "          + ' to learn more about interactive tables.';\n",
              "        element.innerHTML = '';\n",
              "        dataTable['output_type'] = 'display_data';\n",
              "        await google.colab.output.renderOutput(dataTable, element);\n",
              "        const docLink = document.createElement('div');\n",
              "        docLink.innerHTML = docLinkHtml;\n",
              "        element.appendChild(docLink);\n",
              "      }\n",
              "    </script>\n",
              "  </div>\n",
              "\n",
              "\n",
              "<div id=\"df-6cac7097-166d-4a46-bbbb-b489f45963ad\">\n",
              "  <button class=\"colab-df-quickchart\" onclick=\"quickchart('df-6cac7097-166d-4a46-bbbb-b489f45963ad')\"\n",
              "            title=\"Suggest charts\"\n",
              "            style=\"display:none;\">\n",
              "\n",
              "<svg xmlns=\"http://www.w3.org/2000/svg\" height=\"24px\"viewBox=\"0 0 24 24\"\n",
              "     width=\"24px\">\n",
              "    <g>\n",
              "        <path d=\"M19 3H5c-1.1 0-2 .9-2 2v14c0 1.1.9 2 2 2h14c1.1 0 2-.9 2-2V5c0-1.1-.9-2-2-2zM9 17H7v-7h2v7zm4 0h-2V7h2v10zm4 0h-2v-4h2v4z\"/>\n",
              "    </g>\n",
              "</svg>\n",
              "  </button>\n",
              "\n",
              "<style>\n",
              "  .colab-df-quickchart {\n",
              "      --bg-color: #E8F0FE;\n",
              "      --fill-color: #1967D2;\n",
              "      --hover-bg-color: #E2EBFA;\n",
              "      --hover-fill-color: #174EA6;\n",
              "      --disabled-fill-color: #AAA;\n",
              "      --disabled-bg-color: #DDD;\n",
              "  }\n",
              "\n",
              "  [theme=dark] .colab-df-quickchart {\n",
              "      --bg-color: #3B4455;\n",
              "      --fill-color: #D2E3FC;\n",
              "      --hover-bg-color: #434B5C;\n",
              "      --hover-fill-color: #FFFFFF;\n",
              "      --disabled-bg-color: #3B4455;\n",
              "      --disabled-fill-color: #666;\n",
              "  }\n",
              "\n",
              "  .colab-df-quickchart {\n",
              "    background-color: var(--bg-color);\n",
              "    border: none;\n",
              "    border-radius: 50%;\n",
              "    cursor: pointer;\n",
              "    display: none;\n",
              "    fill: var(--fill-color);\n",
              "    height: 32px;\n",
              "    padding: 0;\n",
              "    width: 32px;\n",
              "  }\n",
              "\n",
              "  .colab-df-quickchart:hover {\n",
              "    background-color: var(--hover-bg-color);\n",
              "    box-shadow: 0 1px 2px rgba(60, 64, 67, 0.3), 0 1px 3px 1px rgba(60, 64, 67, 0.15);\n",
              "    fill: var(--button-hover-fill-color);\n",
              "  }\n",
              "\n",
              "  .colab-df-quickchart-complete:disabled,\n",
              "  .colab-df-quickchart-complete:disabled:hover {\n",
              "    background-color: var(--disabled-bg-color);\n",
              "    fill: var(--disabled-fill-color);\n",
              "    box-shadow: none;\n",
              "  }\n",
              "\n",
              "  .colab-df-spinner {\n",
              "    border: 2px solid var(--fill-color);\n",
              "    border-color: transparent;\n",
              "    border-bottom-color: var(--fill-color);\n",
              "    animation:\n",
              "      spin 1s steps(1) infinite;\n",
              "  }\n",
              "\n",
              "  @keyframes spin {\n",
              "    0% {\n",
              "      border-color: transparent;\n",
              "      border-bottom-color: var(--fill-color);\n",
              "      border-left-color: var(--fill-color);\n",
              "    }\n",
              "    20% {\n",
              "      border-color: transparent;\n",
              "      border-left-color: var(--fill-color);\n",
              "      border-top-color: var(--fill-color);\n",
              "    }\n",
              "    30% {\n",
              "      border-color: transparent;\n",
              "      border-left-color: var(--fill-color);\n",
              "      border-top-color: var(--fill-color);\n",
              "      border-right-color: var(--fill-color);\n",
              "    }\n",
              "    40% {\n",
              "      border-color: transparent;\n",
              "      border-right-color: var(--fill-color);\n",
              "      border-top-color: var(--fill-color);\n",
              "    }\n",
              "    60% {\n",
              "      border-color: transparent;\n",
              "      border-right-color: var(--fill-color);\n",
              "    }\n",
              "    80% {\n",
              "      border-color: transparent;\n",
              "      border-right-color: var(--fill-color);\n",
              "      border-bottom-color: var(--fill-color);\n",
              "    }\n",
              "    90% {\n",
              "      border-color: transparent;\n",
              "      border-bottom-color: var(--fill-color);\n",
              "    }\n",
              "  }\n",
              "</style>\n",
              "\n",
              "  <script>\n",
              "    async function quickchart(key) {\n",
              "      const quickchartButtonEl =\n",
              "        document.querySelector('#' + key + ' button');\n",
              "      quickchartButtonEl.disabled = true;  // To prevent multiple clicks.\n",
              "      quickchartButtonEl.classList.add('colab-df-spinner');\n",
              "      try {\n",
              "        const charts = await google.colab.kernel.invokeFunction(\n",
              "            'suggestCharts', [key], {});\n",
              "      } catch (error) {\n",
              "        console.error('Error during call to suggestCharts:', error);\n",
              "      }\n",
              "      quickchartButtonEl.classList.remove('colab-df-spinner');\n",
              "      quickchartButtonEl.classList.add('colab-df-quickchart-complete');\n",
              "    }\n",
              "    (() => {\n",
              "      let quickchartButtonEl =\n",
              "        document.querySelector('#df-6cac7097-166d-4a46-bbbb-b489f45963ad button');\n",
              "      quickchartButtonEl.style.display =\n",
              "        google.colab.kernel.accessAllowed ? 'block' : 'none';\n",
              "    })();\n",
              "  </script>\n",
              "</div>\n",
              "    </div>\n",
              "  </div>\n"
            ],
            "application/vnd.google.colaboratory.intrinsic+json": {
              "type": "dataframe",
              "variable_name": "dados_chag_concat",
              "summary": "{\n  \"name\": \"dados_chag_concat\",\n  \"rows\": 48242,\n  \"fields\": [\n    {\n      \"column\": \"NU_ANO\",\n      \"properties\": {\n        \"dtype\": \"string\",\n        \"num_unique_values\": 13,\n        \"samples\": [\n          \"2021\",\n          \"2019\",\n          \"2010\"\n        ],\n        \"semantic_type\": \"\",\n        \"description\": \"\"\n      }\n    },\n    {\n      \"column\": \"SG_UF_NOT\",\n      \"properties\": {\n        \"dtype\": \"string\",\n        \"num_unique_values\": 27,\n        \"samples\": [\n          \"Rond\\u00f4nia\",\n          \"Minas Gerais\",\n          \"Tocantins\"\n        ],\n        \"semantic_type\": \"\",\n        \"description\": \"\"\n      }\n    },\n    {\n      \"column\": \"idade_anos\",\n      \"properties\": {\n        \"dtype\": \"number\",\n        \"std\": 21.622171455658908,\n        \"min\": 0.0,\n        \"max\": 113.0,\n        \"num_unique_values\": 150,\n        \"samples\": [\n          77.0,\n          57.0,\n          0.038356164383561646\n        ],\n        \"semantic_type\": \"\",\n        \"description\": \"\"\n      }\n    },\n    {\n      \"column\": \"CS_SEXO\",\n      \"properties\": {\n        \"dtype\": \"string\",\n        \"num_unique_values\": 3,\n        \"samples\": [\n          \"M\",\n          \"F\",\n          \"I\"\n        ],\n        \"semantic_type\": \"\",\n        \"description\": \"\"\n      }\n    }\n  ]\n}"
            }
          },
          "metadata": {},
          "execution_count": 48
        }
      ]
    },
    {
      "source": [
        "# @title idade_anos\n",
        "\n",
        "from matplotlib import pyplot as plt\n",
        "dados_chag_concat['idade_anos'].plot(kind='line', figsize=(8, 4), title='idade_anos')\n",
        "plt.gca().spines[['top', 'right']].set_visible(False)"
      ],
      "cell_type": "code",
      "execution_count": null,
      "outputs": [
        {
          "output_type": "display_data",
          "data": {
            "text/plain": [
              "<Figure size 800x400 with 1 Axes>"
            ],
            "image/png": "[encoded data removed]"
          },
          "metadata": {}
        }
      ],
      "metadata": {
        "cellView": "form",
        "colab": {
          "base_uri": "https://localhost:8080/",
          "height": 391
        },
        "id": "wYcGAydDdZrk",
        "outputId": "58a47a5b-8e92-44db-8544-ea5b357b327c"
      }
    },
    {
      "source": [
        "# @title idade_anos\n",
        "\n",
        "from matplotlib import pyplot as plt\n",
        "dados_chag_concat['idade_anos'].plot(kind='hist', bins=20, title='idade_anos')\n",
        "plt.gca().spines[['top', 'right',]].set_visible(False)"
      ],
      "cell_type": "code",
      "execution_count": null,
      "outputs": [
        {
          "output_type": "display_data",
          "data": {
            "text/plain": [
              "<Figure size 640x480 with 1 Axes>"
            ],
            "image/png": "[encoded data removed]"
          },
          "metadata": {}
        }
      ],
      "metadata": {
        "cellView": "form",
        "colab": {
          "base_uri": "https://localhost:8080/",
          "height": 452
        },
        "id": "tOgWDxTHdUXe",
        "outputId": "9d057229-5005-4926-f2bd-129e26b403d1"
      }
    },
    {
      "cell_type": "code",
      "source": [
        "from google.colab import files"
      ],
      "metadata": {
        "id": "ev8jRW4hvlao"
      },
      "execution_count": null,
      "outputs": []
    },
    {
      "cell_type": "code",
      "source": [
        "dados_chag_concat.to_csv('dados_chagas_2010_2022.csv')"
      ],
      "metadata": {
        "id": "H4tSvuV0wNqf"
      },
      "execution_count": null,
      "outputs": []
    },
    {
      "cell_type": "code",
      "source": [
        "files.download('dados_chagas_2010_2022.csv')"
      ],
      "metadata": {
        "colab": {
          "base_uri": "https://localhost:8080/",
          "height": 17
        },
        "id": "Vmo9WEFLwb6H",
        "outputId": "f693a172-5927-4cc0-e0a5-48104d6e6e1e"
      },
      "execution_count": null,
      "outputs": [
        {
          "output_type": "display_data",
          "data": {
            "text/plain": [
              "<IPython.core.display.Javascript object>"
            ],
            "application/javascript": [
              "\n",
              "    async function download(id, filename, size) {\n",
              "      if (!google.colab.kernel.accessAllowed) {\n",
              "        return;\n",
              "      }\n",
              "      const div = document.createElement('div');\n",
              "      const label = document.createElement('label');\n",
              "      label.textContent = `Downloading \"${filename}\": `;\n",
              "      div.appendChild(label);\n",
              "      const progress = document.createElement('progress');\n",
              "      progress.max = size;\n",
              "      div.appendChild(progress);\n",
              "      document.body.appendChild(div);\n",
              "\n",
              "      const buffers = [];\n",
              "      let downloaded = 0;\n",
              "\n",
              "      const channel = await google.colab.kernel.comms.open(id);\n",
              "      // Send a message to notify the kernel that we're ready.\n",
              "      channel.send({})\n",
              "\n",
              "      for await (const message of channel.messages) {\n",
              "        // Send a message to notify the kernel that we're ready.\n",
              "        channel.send({})\n",
              "        if (message.buffers) {\n",
              "          for (const buffer of message.buffers) {\n",
              "            buffers.push(buffer);\n",
              "            downloaded += buffer.byteLength;\n",
              "            progress.value = downloaded;\n",
              "          }\n",
              "        }\n",
              "      }\n",
              "      const blob = new Blob(buffers, {type: 'application/binary'});\n",
              "      const a = document.createElement('a');\n",
              "      a.href = window.URL.createObjectURL(blob);\n",
              "      a.download = filename;\n",
              "      div.appendChild(a);\n",
              "      a.click();\n",
              "      div.remove();\n",
              "    }\n",
              "  "
            ]
          },
          "metadata": {}
        },
        {
          "output_type": "display_data",
          "data": {
            "text/plain": [
              "<IPython.core.display.Javascript object>"
            ],
            "application/javascript": [
              "download(\"download_c1bb792b-b464-4a6a-8340-c5cc3f9898fd\", \"dados_chagas_2010_2022.csv\", 1173507)"
            ]
          },
          "metadata": {}
        }
      ]
    }
  ]
}
